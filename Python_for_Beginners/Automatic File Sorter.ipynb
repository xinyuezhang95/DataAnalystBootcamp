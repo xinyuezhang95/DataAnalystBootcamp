{
 "cells": [
  {
   "cell_type": "markdown",
   "metadata": {},
   "source": [
    "## Automatic File Sorter in File Explorer"
   ]
  },
  {
   "cell_type": "code",
   "execution_count": 2,
   "metadata": {},
   "outputs": [],
   "source": [
    "import os, shutil\n",
    "# os: operating system; shutil: allows us to do operations in file explorer"
   ]
  },
  {
   "cell_type": "code",
   "execution_count": 3,
   "metadata": {},
   "outputs": [],
   "source": [
    "path = r\"C:\\Users\\zxy23\\Downloads\"\n",
    "# r: raw string"
   ]
  },
  {
   "cell_type": "code",
   "execution_count": 4,
   "metadata": {},
   "outputs": [
    {
     "data": {
      "text/plain": [
       "['0X217_A86Z_MMIHANDBOOKHOURLYDAILY2017_210930945026155CD6E335E7_330.PDF',\n",
       " '1-2006291K632.zip',\n",
       " '1-210311121922.zip',\n",
       " '1.01. Simple linear regression.csv',\n",
       " '10.3758_s13428-017-0975-6-citation.ris']"
      ]
     },
     "execution_count": 4,
     "metadata": {},
     "output_type": "execute_result"
    }
   ],
   "source": [
    "os.listdir(path)[:5] # shows us what files are in the path"
   ]
  },
  {
   "cell_type": "code",
   "execution_count": 11,
   "metadata": {},
   "outputs": [
    {
     "data": {
      "text/plain": [
       "False"
      ]
     },
     "execution_count": 11,
     "metadata": {},
     "output_type": "execute_result"
    }
   ],
   "source": [
    "os.path.exists(path + '\\csv files')"
   ]
  },
  {
   "cell_type": "code",
   "execution_count": 13,
   "metadata": {},
   "outputs": [],
   "source": [
    "folder_names = ['\\\\csv files', '\\\\image files', '\\\\text files', '\\\\pdf files', '\\\\other files']\n",
    "\n",
    "for i in folder_names:\n",
    "    # print(os.path.exists(path + i))\n",
    "    if not os.path.exists(path + i):\n",
    "        os.makedirs(path + i)"
   ]
  },
  {
   "cell_type": "code",
   "execution_count": 14,
   "metadata": {},
   "outputs": [],
   "source": [
    "file_names = os.listdir(path)"
   ]
  },
  {
   "cell_type": "code",
   "execution_count": 23,
   "metadata": {},
   "outputs": [
    {
     "data": {
      "text/plain": [
       "'PDF'"
      ]
     },
     "execution_count": 23,
     "metadata": {},
     "output_type": "execute_result"
    }
   ],
   "source": [
    "file_names[0][-3:]"
   ]
  },
  {
   "cell_type": "code",
   "execution_count": 30,
   "metadata": {},
   "outputs": [
    {
     "name": "stdout",
     "output_type": "stream",
     "text": [
      "There are 1 files in this path that were not moved.\n",
      "There are 2 files in this path that were not moved.\n",
      "There are 3 files in this path that were not moved.\n",
      "There are 4 files in this path that were not moved.\n",
      "There are 5 files in this path that were not moved.\n",
      "There are 6 files in this path that were not moved.\n",
      "There are 7 files in this path that were not moved.\n",
      "There are 8 files in this path that were not moved.\n",
      "There are 9 files in this path that were not moved.\n",
      "There are 10 files in this path that were not moved.\n",
      "There are 11 files in this path that were not moved.\n",
      "There are 12 files in this path that were not moved.\n",
      "There are 13 files in this path that were not moved.\n",
      "There are 14 files in this path that were not moved.\n",
      "There are 15 files in this path that were not moved.\n",
      "There are 16 files in this path that were not moved.\n",
      "There are 17 files in this path that were not moved.\n",
      "There are 18 files in this path that were not moved.\n",
      "There are 19 files in this path that were not moved.\n",
      "There are 20 files in this path that were not moved.\n",
      "There are 21 files in this path that were not moved.\n",
      "There are 22 files in this path that were not moved.\n",
      "There are 23 files in this path that were not moved.\n",
      "There are 24 files in this path that were not moved.\n",
      "There are 25 files in this path that were not moved.\n",
      "There are 26 files in this path that were not moved.\n",
      "There are 27 files in this path that were not moved.\n",
      "There are 28 files in this path that were not moved.\n",
      "There are 29 files in this path that were not moved.\n",
      "There are 30 files in this path that were not moved.\n",
      "There are 31 files in this path that were not moved.\n",
      "There are 32 files in this path that were not moved.\n",
      "There are 33 files in this path that were not moved.\n",
      "There are 34 files in this path that were not moved.\n",
      "There are 35 files in this path that were not moved.\n",
      "There are 36 files in this path that were not moved.\n",
      "There are 37 files in this path that were not moved.\n",
      "There are 38 files in this path that were not moved.\n",
      "There are 39 files in this path that were not moved.\n",
      "There are 40 files in this path that were not moved.\n",
      "There are 41 files in this path that were not moved.\n",
      "There are 42 files in this path that were not moved.\n",
      "There are 43 files in this path that were not moved.\n",
      "There are 44 files in this path that were not moved.\n",
      "There are 45 files in this path that were not moved.\n",
      "There are 46 files in this path that were not moved.\n",
      "There are 47 files in this path that were not moved.\n",
      "There are 48 files in this path that were not moved.\n",
      "There are 49 files in this path that were not moved.\n",
      "There are 50 files in this path that were not moved.\n",
      "There are 51 files in this path that were not moved.\n",
      "There are 52 files in this path that were not moved.\n",
      "There are 53 files in this path that were not moved.\n",
      "There are 54 files in this path that were not moved.\n",
      "There are 55 files in this path that were not moved.\n",
      "There are 56 files in this path that were not moved.\n",
      "There are 57 files in this path that were not moved.\n",
      "There are 58 files in this path that were not moved.\n",
      "There are 59 files in this path that were not moved.\n",
      "There are 60 files in this path that were not moved.\n",
      "There are 61 files in this path that were not moved.\n",
      "There are 62 files in this path that were not moved.\n",
      "There are 63 files in this path that were not moved.\n",
      "There are 64 files in this path that were not moved.\n",
      "There are 65 files in this path that were not moved.\n",
      "There are 66 files in this path that were not moved.\n",
      "There are 67 files in this path that were not moved.\n",
      "There are 68 files in this path that were not moved.\n",
      "There are 69 files in this path that were not moved.\n",
      "There are 70 files in this path that were not moved.\n",
      "There are 71 files in this path that were not moved.\n",
      "There are 72 files in this path that were not moved.\n",
      "There are 73 files in this path that were not moved.\n",
      "There are 74 files in this path that were not moved.\n",
      "There are 75 files in this path that were not moved.\n",
      "There are 76 files in this path that were not moved.\n",
      "There are 77 files in this path that were not moved.\n",
      "There are 78 files in this path that were not moved.\n",
      "There are 79 files in this path that were not moved.\n",
      "There are 80 files in this path that were not moved.\n",
      "There are 81 files in this path that were not moved.\n",
      "There are 82 files in this path that were not moved.\n",
      "There are 83 files in this path that were not moved.\n",
      "There are 84 files in this path that were not moved.\n",
      "There are 85 files in this path that were not moved.\n",
      "There are 86 files in this path that were not moved.\n",
      "There are 87 files in this path that were not moved.\n",
      "There are 88 files in this path that were not moved.\n",
      "There are 89 files in this path that were not moved.\n",
      "There are 90 files in this path that were not moved.\n",
      "There are 91 files in this path that were not moved.\n",
      "There are 92 files in this path that were not moved.\n",
      "There are 93 files in this path that were not moved.\n",
      "There are 94 files in this path that were not moved.\n",
      "There are 95 files in this path that were not moved.\n",
      "There are 96 files in this path that were not moved.\n",
      "There are 97 files in this path that were not moved.\n",
      "There are 98 files in this path that were not moved.\n",
      "There are 99 files in this path that were not moved.\n",
      "There are 100 files in this path that were not moved.\n",
      "There are 101 files in this path that were not moved.\n",
      "There are 102 files in this path that were not moved.\n",
      "There are 103 files in this path that were not moved.\n",
      "There are 104 files in this path that were not moved.\n",
      "There are 105 files in this path that were not moved.\n",
      "There are 106 files in this path that were not moved.\n",
      "There are 107 files in this path that were not moved.\n",
      "There are 108 files in this path that were not moved.\n",
      "There are 109 files in this path that were not moved.\n",
      "There are 110 files in this path that were not moved.\n",
      "There are 111 files in this path that were not moved.\n",
      "There are 112 files in this path that were not moved.\n",
      "There are 113 files in this path that were not moved.\n",
      "There are 114 files in this path that were not moved.\n",
      "There are 115 files in this path that were not moved.\n",
      "There are 116 files in this path that were not moved.\n",
      "There are 117 files in this path that were not moved.\n",
      "There are 118 files in this path that were not moved.\n",
      "There are 119 files in this path that were not moved.\n",
      "There are 120 files in this path that were not moved.\n",
      "There are 121 files in this path that were not moved.\n",
      "There are 122 files in this path that were not moved.\n",
      "There are 123 files in this path that were not moved.\n",
      "There are 124 files in this path that were not moved.\n",
      "There are 125 files in this path that were not moved.\n",
      "There are 126 files in this path that were not moved.\n",
      "There are 127 files in this path that were not moved.\n",
      "There are 128 files in this path that were not moved.\n",
      "There are 129 files in this path that were not moved.\n",
      "There are 130 files in this path that were not moved.\n",
      "There are 131 files in this path that were not moved.\n",
      "There are 132 files in this path that were not moved.\n",
      "There are 133 files in this path that were not moved.\n",
      "There are 134 files in this path that were not moved.\n",
      "There are 135 files in this path that were not moved.\n",
      "There are 136 files in this path that were not moved.\n",
      "There are 137 files in this path that were not moved.\n",
      "There are 138 files in this path that were not moved.\n",
      "There are 139 files in this path that were not moved.\n",
      "There are 140 files in this path that were not moved.\n",
      "There are 141 files in this path that were not moved.\n",
      "There are 142 files in this path that were not moved.\n",
      "There are 143 files in this path that were not moved.\n",
      "There are 144 files in this path that were not moved.\n",
      "There are 145 files in this path that were not moved.\n",
      "There are 146 files in this path that were not moved.\n",
      "There are 147 files in this path that were not moved.\n",
      "There are 148 files in this path that were not moved.\n",
      "There are 149 files in this path that were not moved.\n",
      "There are 150 files in this path that were not moved.\n",
      "There are 151 files in this path that were not moved.\n",
      "There are 152 files in this path that were not moved.\n",
      "There are 153 files in this path that were not moved.\n",
      "There are 154 files in this path that were not moved.\n",
      "There are 155 files in this path that were not moved.\n",
      "There are 156 files in this path that were not moved.\n",
      "There are 157 files in this path that were not moved.\n"
     ]
    }
   ],
   "source": [
    "num = 0 \n",
    "file_names = os.listdir(path)\n",
    "\n",
    "for file in file_names:\n",
    "    if '.csv' in file and not os.path.exists(path + '\\\\csv files\\\\' + file):\n",
    "        shutil.move(path + '\\\\' + file, path + '\\\\csv files\\\\' + file)\n",
    "    if '.png' in file and not os.path.exists(path + '\\\\image files\\\\' + file):\n",
    "        shutil.move(path + '\\\\' + file, path + '\\\\image files\\\\' + file)\n",
    "    if '.txt' in file and not os.path.exists(path + '\\\\text files\\\\' + file):\n",
    "        shutil.move(path + '\\\\' + file, path + '\\\\text files\\\\' + file)\n",
    "    if (('.pdf' in file) or ('.PDF' in file)) and not os.path.exists(path + '\\\\pdf files\\\\' + file):\n",
    "        shutil.move(path + '\\\\' + file, path + '\\\\pdf files\\\\' + file)\n",
    "    else:\n",
    "        num = num + 1\n",
    "        print('There are {} files in this path that were not moved.'.format(num))"
   ]
  },
  {
   "cell_type": "code",
   "execution_count": null,
   "metadata": {},
   "outputs": [],
   "source": []
  }
 ],
 "metadata": {
  "kernelspec": {
   "display_name": "Python 3",
   "language": "python",
   "name": "python3"
  },
  "language_info": {
   "codemirror_mode": {
    "name": "ipython",
    "version": 3
   },
   "file_extension": ".py",
   "mimetype": "text/x-python",
   "name": "python",
   "nbconvert_exporter": "python",
   "pygments_lexer": "ipython3",
   "version": "3.8.5"
  }
 },
 "nbformat": 4,
 "nbformat_minor": 4
}
